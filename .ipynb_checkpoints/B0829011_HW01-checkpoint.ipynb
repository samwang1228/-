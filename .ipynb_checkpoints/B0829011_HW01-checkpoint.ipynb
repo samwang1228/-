{
 "cells": [
  {
   "cell_type": "markdown",
   "metadata": {},
   "source": [
    "## ThinkDSP\n",
    "\n",
    "This notebook contains solutions to exercises in Chapter 1: Sounds and Signals\n",
    "\n",
    "Copyright 2015 Allen Downey\n",
    "\n",
    "License: [Creative Commons Attribution 4.0 International](http://creativecommons.org/licenses/by/4.0/)"
   ]
  },
  {
   "cell_type": "code",
   "execution_count": 4,
   "metadata": {},
   "outputs": [],
   "source": [
    "# Get thinkdsp.py\n",
    "\n",
    "import os\n",
    "\n",
    "if not os.path.exists('thinkdsp.py'):\n",
    "    !wget https://github.com/AllenDowney/ThinkDSP/raw/master/code/thinkdsp.py "
   ]
  },
  {
   "cell_type": "markdown",
   "metadata": {},
   "source": [
    "如果抓不到去下面的連結抓"
   ]
  },
  {
   "cell_type": "markdown",
   "metadata": {},
   "source": [
    "### Exercise 1\n",
    "\n",
    "Go to http://freesound.org and download a sound sample that\n",
    "includes music, speech, or other sounds that have a well-defined pitch.\n",
    "Select a roughly half-second segment where the pitch is\n",
    "constant.  Compute and plot the spectrum of the segment you selected.\n",
    "What connection can you make between the timbre of the sound and the\n",
    "harmonic structure you see in the spectrum?\n",
    "\n",
    "Use `high_pass`, `low_pass`, and `band_stop` to\n",
    "filter out some of the harmonics.  Then convert the spectrum back\n",
    "to a wave and listen to it.  How does the sound relate to the\n",
    "changes you made in the spectrum?"
   ]
  },
  {
   "cell_type": "markdown",
   "metadata": {},
   "source": [
    "### Solution\n",
    "我選擇此音檔作為答案\n",
    "https://freesound.org/people/iluppai/sounds/100475/"
   ]
  },
  {
   "cell_type": "code",
   "execution_count": 5,
   "metadata": {},
   "outputs": [],
   "source": [
    "if not os.path.exists('code_100475__iluppai__saxophone-weep.wav'):\n",
    "    !wget https://github.com/AllenDowney/ThinkDSP/blob/master/code/100475__iluppai__saxophone-weep.wav"
   ]
  },
  {
   "cell_type": "code",
   "execution_count": null,
   "metadata": {},
   "outputs": [],
   "source": [
    "from thinkdsp import read_wave\n",
    "\n",
    "wave = read_wave('code_100475__iluppai__saxophone-weep.wav')\n",
    "wave.normalize()\n",
    "wave.make_audio()"
   ]
  },
  {
   "cell_type": "markdown",
   "metadata": {},
   "source": [
    "要正規化才可以撥放"
   ]
  },
  {
   "cell_type": "code",
   "execution_count": null,
   "metadata": {},
   "outputs": [],
   "source": [
    "wave.plot()\n",
    "import matplotlib.pyplot as plt\n",
    "plt.grid(True)\n"
   ]
  },
  {
   "cell_type": "markdown",
   "metadata": {},
   "source": [
    "By trial and error, I selected a segment with a constant pitch (although I believe it is a chord played by at least two horns)."
   ]
  },
  {
   "cell_type": "code",
   "execution_count": null,
   "metadata": {},
   "outputs": [],
   "source": [
    "segment = wave.segment(start=1.1, duration=0.3)\n",
    "segment.make_audio()"
   ]
  },
  {
   "cell_type": "markdown",
   "metadata": {},
   "source": [
    "從1.1開始 持續0.3s"
   ]
  },
  {
   "cell_type": "code",
   "execution_count": null,
   "metadata": {},
   "outputs": [],
   "source": [
    "segment.plot()"
   ]
  },
  {
   "cell_type": "markdown",
   "metadata": {},
   "source": [
    "And here's an even shorter segment so you can see the waveform:"
   ]
  },
  {
   "cell_type": "code",
   "execution_count": null,
   "metadata": {},
   "outputs": [],
   "source": [
    "import matplotlib.pyplot as plt\n",
    "# plt.tick_params(axis='x',colors='white')\n",
    "# plt.tick_params(axis='y',colors='white')\n",
    "segment.segment(start=1.1, duration=0.005).plot()"
   ]
  },
  {
   "cell_type": "code",
   "execution_count": null,
   "metadata": {},
   "outputs": [],
   "source": [
    "spectrum = segment.make_spectrum() #製造音譜 y為數量 x為頻率\n",
    "spectrum.plot(high=7000)"
   ]
  },
  {
   "cell_type": "markdown",
   "metadata": {},
   "source": [
    "It has lots of frequency components.  Let's zoom in on the fundamental and dominant frequencies:"
   ]
  },
  {
   "cell_type": "code",
   "execution_count": null,
   "metadata": {},
   "outputs": [],
   "source": [
    "spectrum = segment.make_spectrum()\n",
    "spectrum.plot(high=1000)"
   ]
  },
  {
   "cell_type": "markdown",
   "metadata": {},
   "source": [
    "`peaks` prints the highest points in the spectrum and their frequencies, in descending order:"
   ]
  },
  {
   "cell_type": "code",
   "execution_count": null,
   "metadata": {},
   "outputs": [],
   "source": [
    "spectrum.peaks()[:30]"
   ]
  },
  {
   "cell_type": "markdown",
   "metadata": {},
   "source": [
    "The dominant peak is at 870 Hz.  It's not easy to dig out the fundamental, but with peaks at 507, 347, and 253 Hz, we can infer a fundamental at roughly 85 Hz, with harmonics at 170, 255, 340, 425, and 510 Hz.\n",
    "\n",
    "85 Hz is close to F2 at 87 Hz.  The pitch we perceive is usually the fundamental, even when it is not dominant.  When you listen to this segment, what pitch(es) do you perceive?\n",
    "\n",
    "Next we can filter out the high frequencies:"
   ]
  },
  {
   "cell_type": "code",
   "execution_count": null,
   "metadata": {},
   "outputs": [],
   "source": [
    "spectrum.low_pass(1900)"
   ]
  },
  {
   "cell_type": "code",
   "execution_count": null,
   "metadata": {},
   "outputs": [],
   "source": [
    "spectrum.make_wave().make_audio()"
   ]
  },
  {
   "cell_type": "markdown",
   "metadata": {},
   "source": [
    "透過以下互動，可以選擇一個片段並應用不同的過濾器。\n",
    "\n",
    "如果將截止頻率設置為3400 Hz，則可以模擬在舊式電話線上採樣的聲音。"
   ]
  },
  {
   "cell_type": "code",
   "execution_count": null,
   "metadata": {},
   "outputs": [],
   "source": [
    "from thinkdsp import decorate\n",
    "from IPython.display import display\n",
    "\n",
    "def filter_wave(wave, start, duration, cutoff):\n",
    "    \"\"\"Selects a segment from the wave and filters it.\n",
    "    \n",
    "    Plots the spectrum and displays an Audio widget.\n",
    "    \n",
    "    wave: Wave object\n",
    "    start: time in s\n",
    "    duration: time in s\n",
    "    cutoff: frequency in Hz\n",
    "    \"\"\"\n",
    "    segment = wave.segment(start, duration)\n",
    "    spectrum = segment.make_spectrum()\n",
    "\n",
    "    spectrum.plot(high=5000, color='0.7')\n",
    "    spectrum.low_pass(cutoff)\n",
    "    spectrum.plot(high=5000, color='#045a8d')\n",
    "    decorate(xlabel='Frequency (Hz)')\n",
    "    \n",
    "    audio = spectrum.make_wave().make_audio()\n",
    "    display(audio)"
   ]
  },
  {
   "cell_type": "code",
   "execution_count": null,
   "metadata": {},
   "outputs": [],
   "source": [
    "from ipywidgets import interact, fixed\n",
    "\n",
    "interact(filter_wave, wave=fixed(wave), \n",
    "         start=(0, 5, 0.1), duration=(0, 5, 0.1), cutoff=(0, 5000, 100));"
   ]
  },
  {
   "cell_type": "markdown",
   "metadata": {},
   "source": [
    "### Exercise 2\n",
    "\n",
    "Synthesize a compound signal by creating SinSignal and CosSignal\n",
    "objects and adding them up.  Evaluate the signal to get a Wave,\n",
    "and listen to it.  Compute its Spectrum and plot it.\n",
    "What happens if you add frequency\n",
    "components that are not multiples of the fundamental?"
   ]
  },
  {
   "cell_type": "markdown",
   "metadata": {},
   "source": [
    "### Solution\n",
    "\n",
    "將三組頻率區間與振幅設定隨機參數並相加使之產生一人造音頻"
   ]
  },
  {
   "cell_type": "code",
   "execution_count": null,
   "metadata": {},
   "outputs": [],
   "source": [
    "from thinkdsp import SinSignal\n",
    "\n",
    "signal = (SinSignal(freq=400, amp=1.0) +\n",
    "          SinSignal(freq=600, amp=0.5) +\n",
    "          SinSignal(freq=800, amp=0.25))\n",
    "signal.plot()"
   ]
  },
  {
   "cell_type": "markdown",
   "metadata": {},
   "source": [
    "We can use the signal to make a wave:"
   ]
  },
  {
   "cell_type": "code",
   "execution_count": null,
   "metadata": {},
   "outputs": [],
   "source": [
    "wave2 = signal.make_wave(duration=1)\n",
    "wave2.apodize()"
   ]
  },
  {
   "cell_type": "markdown",
   "metadata": {},
   "source": [
    "聲音播放如下"
   ]
  },
  {
   "cell_type": "code",
   "execution_count": null,
   "metadata": {},
   "outputs": [],
   "source": [
    "wave2.make_audio()"
   ]
  },
  {
   "cell_type": "markdown",
   "metadata": {},
   "source": [
    "The components are all multiples of 200 Hz, so they make a coherent sounding tone.\n",
    "\n",
    "Here's what the spectrum looks like:"
   ]
  },
  {
   "cell_type": "code",
   "execution_count": null,
   "metadata": {},
   "outputs": [],
   "source": [
    "spectrum = wave2.make_spectrum()\n",
    "spectrum.plot(high=2000)"
   ]
  },
  {
   "cell_type": "markdown",
   "metadata": {},
   "source": [
    "If we add a component that is not a multiple of 200 Hz, we hear it as a distinct pitch."
   ]
  },
  {
   "cell_type": "code",
   "execution_count": null,
   "metadata": {},
   "outputs": [],
   "source": [
    "signal += SinSignal(freq=450)\n",
    "signal.make_wave().make_audio()"
   ]
  },
  {
   "cell_type": "markdown",
   "metadata": {},
   "source": [
    "如果添加的分量不是200 Hz的倍數，會聽到不同的音調\n",
    "將訊號加入音頻為450的音頻，生成音波並建立音檔"
   ]
  },
  {
   "cell_type": "markdown",
   "metadata": {},
   "source": [
    "### Exercise 3\n",
    "\n",
    "Write a function called `stretch` that takes a Wave and a stretch factor and speeds up or slows down the wave by modifying `ts` and `framerate`.  Hint: it should only take two lines of code."
   ]
  },
  {
   "cell_type": "markdown",
   "metadata": {},
   "source": [
    "### Solution\n",
    "\n",
    "再次使用上個音檔"
   ]
  },
  {
   "cell_type": "code",
   "execution_count": null,
   "metadata": {},
   "outputs": [],
   "source": [
    "wave3 = read_wave('100475__iluppai__saxophone-weep.wav')\n",
    "wave3.normalize()\n",
    "wave3.make_audio()"
   ]
  },
  {
   "cell_type": "markdown",
   "metadata": {},
   "source": [
    "Here's my implementation of `stretch`"
   ]
  },
  {
   "cell_type": "code",
   "execution_count": null,
   "metadata": {},
   "outputs": [],
   "source": [
    "def stretch(wave, factor):\n",
    "    wave.ts /= factor\n",
    "    wave.framerate *= factor"
   ]
  },
  {
   "cell_type": "markdown",
   "metadata": {},
   "source": [
    "And here's what it sounds like if we speed it up by a factor of 2."
   ]
  },
  {
   "cell_type": "code",
   "execution_count": null,
   "metadata": {},
   "outputs": [],
   "source": [
    "stretch(wave3, 2) #(播放的音檔 加快的倍率)\n",
    "wave3.make_audio()"
   ]
  },
  {
   "cell_type": "markdown",
   "metadata": {},
   "source": [
    "參數為(播放的音檔 加快的倍率)"
   ]
  },
  {
   "cell_type": "code",
   "execution_count": null,
   "metadata": {},
   "outputs": [],
   "source": [
    "wave3.plot()"
   ]
  },
  {
   "cell_type": "markdown",
   "metadata": {},
   "source": [
    "I think it sounds better speeded up.  In fact, I wonder if we are playing the original at the right speed."
   ]
  },
  {
   "cell_type": "code",
   "execution_count": null,
   "metadata": {},
   "outputs": [],
   "source": []
  }
 ],
 "metadata": {
  "kernelspec": {
   "display_name": "Python 3",
   "language": "python",
   "name": "python3"
  },
  "language_info": {
   "codemirror_mode": {
    "name": "ipython",
    "version": 3
   },
   "file_extension": ".py",
   "mimetype": "text/x-python",
   "name": "python",
   "nbconvert_exporter": "python",
   "pygments_lexer": "ipython3",
   "version": "3.8.3"
  }
 },
 "nbformat": 4,
 "nbformat_minor": 4
}
